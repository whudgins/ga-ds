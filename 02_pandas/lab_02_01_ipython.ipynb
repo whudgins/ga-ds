{
 "cells": [
  {
   "cell_type": "markdown",
   "metadata": {},
   "source": [
    "# IPython Notebook Intro\n",
    "[IPython Notebook](http://ipython.org/notebook.html)\n",
    "\n",
    "The notebook acts just like IPython (tab completion, etc.), but you're also able to mix in:\n",
    "* Markdown\n",
    "* Inline plots through matplotlib\n",
    "* Latex through MathJax\n",
    "\n",
    "This current block is in Markdown. To edit it, double click on the block. The block type can be chosen in the dropdown above.\n",
    "\n",
    "**Remember that there is a kernel running in the background. If you modify a variable in later blocks, and you want to run through a segment again, you may need to rerun those earlier blocks.**"
   ]
  },
  {
   "cell_type": "code",
   "execution_count": null,
   "metadata": {
    "collapsed": false
   },
   "outputs": [],
   "source": [
    "# To run a python block, after writing your commands, press [shift] + [enter]\n",
    "# Unless you 'print' results, only the last executed statement can print to output\n",
    "3+4\n",
    "5+10"
   ]
  },
  {
   "cell_type": "code",
   "execution_count": null,
   "metadata": {
    "collapsed": true
   },
   "outputs": [],
   "source": [
    "x = 5\n",
    "y = 25"
   ]
  },
  {
   "cell_type": "markdown",
   "metadata": {},
   "source": [
    "If you repeatedly run the block below, y will change. If you hope to see the output \"30\" repeatedly, given the inputs above, you will need to rerun the code block above before running on the one below."
   ]
  },
  {
   "cell_type": "code",
   "execution_count": null,
   "metadata": {
    "collapsed": false
   },
   "outputs": [],
   "source": [
    "y = x + y\n",
    "print y"
   ]
  },
  {
   "cell_type": "code",
   "execution_count": null,
   "metadata": {
    "collapsed": true
   },
   "outputs": [],
   "source": [
    "# Imports work just as expected. Note! If you want plots to show, add the inline comment below\n",
    "import matplotlib as plt\n",
    "import numpy as np\n",
    "import pandas as pd\n",
    "%matplotlib inline"
   ]
  },
  {
   "cell_type": "code",
   "execution_count": null,
   "metadata": {
    "collapsed": false
   },
   "outputs": [],
   "source": [
    "# To get function help docstrings instead of autocomplete, press [shift] + [tab]\n",
    "x = pd.Series(np.random.rand(100),index=pd.date_range('1/1/2015',periods=100))\n",
    "x.head()"
   ]
  },
  {
   "cell_type": "code",
   "execution_count": null,
   "metadata": {
    "collapsed": false
   },
   "outputs": [],
   "source": [
    "x = x.cumsum()\n",
    "x.head()"
   ]
  },
  {
   "cell_type": "code",
   "execution_count": null,
   "metadata": {
    "collapsed": false
   },
   "outputs": [],
   "source": [
    "x.plot()"
   ]
  },
  {
   "cell_type": "markdown",
   "metadata": {},
   "source": [
    "-------\n",
    "Cells can be moved up or down, cut, inserted, deleted, etc. In addition, they can be exported to PDF (albeit ugly). Let's take a look at how the .ipynb file itself is saved... (i.e. it is a json file underneath)"
   ]
  }
 ],
 "metadata": {
  "kernelspec": {
   "display_name": "Python 2",
   "language": "python",
   "name": "python2"
  },
  "language_info": {
   "codemirror_mode": {
    "name": "ipython",
    "version": 2
   },
   "file_extension": ".py",
   "mimetype": "text/x-python",
   "name": "python",
   "nbconvert_exporter": "python",
   "pygments_lexer": "ipython2",
   "version": "2.7.10"
  }
 },
 "nbformat": 4,
 "nbformat_minor": 0
}
