{
 "cells": [
  {
   "cell_type": "markdown",
   "metadata": {
    "collapsed": true
   },
   "source": [
    "# Linear Algebra with Numpy\n",
    "### NumPy\n",
    "\n",
    "As we've seen in lecture, linear algebra is the branch of mathematics describing navigation between different vector spaces. This core concept is very important as various data science techniques rely upon it (e.g. Linear Regression, Support Vector Machines, Recommender Systems, Neural Networks).\n",
    "\n",
    "NumPy is a package designed to be used in scientific computing, and specifically around building and manipulating N-dimensional array objects.\n",
    "\n",
    "* `numpy` stands for numerical python\n",
    "* the starring role is played by the `ndarray`, which is a vector\n",
    "* `pandas` is built on `numpy`\n",
    "* More documentation available at: http://www.numpy.org\n",
    "* Good quick tutorial at: http://cs231n.github.io/python-numpy-tutorial/"
   ]
  },
  {
   "cell_type": "code",
   "execution_count": null,
   "metadata": {
    "collapsed": false
   },
   "outputs": [],
   "source": [
    "import numpy\n",
    "import numpy as np # Same as above, but numpy is aliased to np."
   ]
  },
  {
   "cell_type": "code",
   "execution_count": null,
   "metadata": {
    "collapsed": false,
    "scrolled": true
   },
   "outputs": [],
   "source": [
    "print numpy.absolute(-10)\n",
    "print np.absolute(-10) # Both ways work"
   ]
  },
  {
   "cell_type": "markdown",
   "metadata": {},
   "source": [
    "### Arrays\n",
    "We can create vectors and matrices we learned in class through np.array\n",
    "\n",
    "(Note for persons familiar with vector representations of mathematical geometries:\n",
    "Hereforth, dimensions refers to the number of axes of the matrix, not physical dimensions that can be represented through multiple vectors in a m x n matrix)"
   ]
  },
  {
   "cell_type": "code",
   "execution_count": null,
   "metadata": {
    "collapsed": false
   },
   "outputs": [],
   "source": [
    "a = np.array([1, 2, 1]) #Create a 1 dimensional array having shape 3"
   ]
  },
  {
   "cell_type": "code",
   "execution_count": null,
   "metadata": {
    "collapsed": true
   },
   "outputs": [],
   "source": [
    "a = np.array([ [1,2], [3,4], [5,6] ]) #Create a 2 dimensional array having shape 3 x 2"
   ]
  },
  {
   "cell_type": "code",
   "execution_count": null,
   "metadata": {
    "collapsed": false
   },
   "outputs": [],
   "source": [
    "a = np.array([[1, 2, 3],[2, 4, 9],[4,6,4]]) # Create a 2 dimensional array having shape 3 x 3"
   ]
  },
  {
   "cell_type": "code",
   "execution_count": null,
   "metadata": {
    "collapsed": false
   },
   "outputs": [],
   "source": [
    "# Gives us the shape and number of dimensions. \n",
    "# There are two dimensions, both having size 3.\n",
    "a.shape"
   ]
  },
  {
   "cell_type": "code",
   "execution_count": null,
   "metadata": {
    "collapsed": false
   },
   "outputs": [],
   "source": [
    "# We can also observe how many dimensions the numpy array is\n",
    "a.ndim"
   ]
  },
  {
   "cell_type": "code",
   "execution_count": null,
   "metadata": {
    "collapsed": false
   },
   "outputs": [],
   "source": [
    "a[0]  # Index first row"
   ]
  },
  {
   "cell_type": "code",
   "execution_count": null,
   "metadata": {
    "collapsed": false
   },
   "outputs": [],
   "source": [
    "a[0,:] #Index first row, but more clear"
   ]
  },
  {
   "cell_type": "code",
   "execution_count": null,
   "metadata": {
    "collapsed": false
   },
   "outputs": [],
   "source": [
    "a[ : , 1]  # Index second column"
   ]
  },
  {
   "cell_type": "code",
   "execution_count": null,
   "metadata": {
    "collapsed": false
   },
   "outputs": [],
   "source": [
    "a[:2,1:3] #Slice the 0 and 1 rows, and the 1 and 2 columns"
   ]
  },
  {
   "cell_type": "code",
   "execution_count": null,
   "metadata": {
    "collapsed": false
   },
   "outputs": [],
   "source": [
    "a[:2,1:3] = 0 # Can directly modify the elements "
   ]
  },
  {
   "cell_type": "markdown",
   "metadata": {},
   "source": [
    "Be careful about indexing/slicing. If you **index** a single row/column in a 2d matrix, you will get a 1d array back having dimensions (d,). If you **slice** a single row/column, you will get a 2d array back having dimensions (d,1), (1,d) or similar."
   ]
  },
  {
   "cell_type": "code",
   "execution_count": null,
   "metadata": {
    "collapsed": false
   },
   "outputs": [],
   "source": [
    "# The output numbers are the same,\n",
    "# but the first is conceptually a vector. \n",
    "# The second is conceptually a 1xd matrix\n",
    "print a[0,:].shape #Indexed on 0th row. This is a 1d array\n",
    "print a[0:1,:].shape #Sliced on 0th row. This is a 2d array having dimension sizes: (1,3)"
   ]
  },
  {
   "cell_type": "code",
   "execution_count": null,
   "metadata": {
    "collapsed": false,
    "scrolled": true
   },
   "outputs": [],
   "source": [
    "#If you're unclear how many dimensions there are, you can use ndim to check\n",
    "print a[0,:].ndim\n",
    "print a[0:1,:].ndim"
   ]
  },
  {
   "cell_type": "markdown",
   "metadata": {},
   "source": [
    "#### Integer slicing\n",
    "You can index into numpy arrays using arrays of integers as well"
   ]
  },
  {
   "cell_type": "code",
   "execution_count": null,
   "metadata": {
    "collapsed": false
   },
   "outputs": [],
   "source": [
    "a = np.array([ [1,2],[3,4],[5,6]])"
   ]
  },
  {
   "cell_type": "code",
   "execution_count": null,
   "metadata": {
    "collapsed": false
   },
   "outputs": [],
   "source": [
    "a[ [0,1,2], [0,1,0] ] # If we wanted to grab the (0,0), (1,1), and (2,0) elements"
   ]
  },
  {
   "cell_type": "code",
   "execution_count": null,
   "metadata": {
    "collapsed": false
   },
   "outputs": [],
   "source": [
    "np.array([ a[0,0], a[1,1], a[2,0]]) #Same as above, but create a new array from the elements"
   ]
  },
  {
   "cell_type": "markdown",
   "metadata": {},
   "source": [
    "#### Boolean Slicing\n",
    "You can also index into numpy arrays through conditional statements"
   ]
  },
  {
   "cell_type": "code",
   "execution_count": null,
   "metadata": {
    "collapsed": false
   },
   "outputs": [],
   "source": [
    "a = np.array([[1,2],[3,4],[5,100000000]])\n",
    "a"
   ]
  },
  {
   "cell_type": "code",
   "execution_count": null,
   "metadata": {
    "collapsed": false
   },
   "outputs": [],
   "source": [
    "bad_vals = a > 10\n",
    "bad_vals"
   ]
  },
  {
   "cell_type": "code",
   "execution_count": null,
   "metadata": {
    "collapsed": false
   },
   "outputs": [],
   "source": [
    "a[bad_vals] = 5\n",
    "a"
   ]
  },
  {
   "cell_type": "markdown",
   "metadata": {},
   "source": [
    "### Datatypes\n",
    "All elements in an np array use the same data type. Numpy tries to guess the best datatype, but they are coercible to other types. In addition you can explicitly force the type"
   ]
  },
  {
   "cell_type": "code",
   "execution_count": null,
   "metadata": {
    "collapsed": false
   },
   "outputs": [],
   "source": [
    "x = np.array([1,2])\n",
    "x.dtype"
   ]
  },
  {
   "cell_type": "code",
   "execution_count": null,
   "metadata": {
    "collapsed": false
   },
   "outputs": [],
   "source": [
    "x = np.array([1.0,2.3])\n",
    "x.dtype"
   ]
  },
  {
   "cell_type": "code",
   "execution_count": null,
   "metadata": {
    "collapsed": false
   },
   "outputs": [],
   "source": [
    "#Force to float64 type, though we've seen this would normally cast to a int64\n",
    "x = np.array([1,2],dtype='float64')\n",
    "x.dtype"
   ]
  },
  {
   "cell_type": "markdown",
   "metadata": {},
   "source": [
    "### Matrix Operations\n",
    "\n",
    "We can perform matrix operations such as:"
   ]
  },
  {
   "cell_type": "code",
   "execution_count": null,
   "metadata": {
    "collapsed": false
   },
   "outputs": [],
   "source": [
    "data = np.array( [ [1,2,3], [4,5,6], [7,8,9] ])"
   ]
  },
  {
   "cell_type": "code",
   "execution_count": null,
   "metadata": {
    "collapsed": false
   },
   "outputs": [],
   "source": [
    "data + data # Matrix Addition"
   ]
  },
  {
   "cell_type": "code",
   "execution_count": null,
   "metadata": {
    "collapsed": false
   },
   "outputs": [],
   "source": [
    "np.add(data,data) # Same as above"
   ]
  },
  {
   "cell_type": "code",
   "execution_count": null,
   "metadata": {
    "collapsed": false
   },
   "outputs": [],
   "source": [
    "np.subtract(data,data)"
   ]
  },
  {
   "cell_type": "code",
   "execution_count": null,
   "metadata": {
    "collapsed": false
   },
   "outputs": [],
   "source": [
    "data * 2 # Multiplication of each element by a scalar"
   ]
  },
  {
   "cell_type": "markdown",
   "metadata": {},
   "source": [
    "The dimensionality of np arrays is important.\n",
    "If we multiply a 2d array by a 1d array, it will implicitly do a matrix * vector operation, and return a 1d array."
   ]
  },
  {
   "cell_type": "code",
   "execution_count": null,
   "metadata": {
    "collapsed": false
   },
   "outputs": [],
   "source": [
    "a = np.array([1, 2, 1]) #Create a 1 dimensional array with size 3\n",
    "np.dot(data, a) # Here we multiply the (3,3) array by a (3,) array"
   ]
  },
  {
   "cell_type": "markdown",
   "metadata": {},
   "source": [
    "If instead, we tried to create a 2d array having size (1,3), this will fail.\n",
    "Because `data` and `a` are 2d arrays, numpy will follow normal matrix multiplication rules of matching inner dimensions: (3,3) * (1,3) will not work since the number of columns in the first matrix (3), does not match the number of rows in the second matrix (1)."
   ]
  },
  {
   "cell_type": "code",
   "execution_count": null,
   "metadata": {
    "collapsed": false,
    "scrolled": true
   },
   "outputs": [],
   "source": [
    "a = np.array([[1,2,1]]) #Explicitly create a 2 dimensional, 1x3 array\n",
    "np.dot(data,a) # Here we multiple the (3,3) array by a (1,3) array"
   ]
  },
  {
   "cell_type": "markdown",
   "metadata": {},
   "source": [
    "If we instead shaped a to be a column array having size (3,1), then the dimensions match:\n",
    "(3,3) * (3,1) will work because the number of columns in the first matrix (3), matches the number of rows in the second matrix (3)"
   ]
  },
  {
   "cell_type": "code",
   "execution_count": null,
   "metadata": {
    "collapsed": false
   },
   "outputs": [],
   "source": [
    "vector = np.array([ [1], [2], [1] ])\n",
    "np.dot(data,vector) # Here we multiple the (3,3) array by a (3,1) array"
   ]
  },
  {
   "cell_type": "markdown",
   "metadata": {},
   "source": [
    "There is a difference between the `np.dot` method and `np.array * np.array`"
   ]
  },
  {
   "cell_type": "code",
   "execution_count": null,
   "metadata": {
    "collapsed": true
   },
   "outputs": [],
   "source": [
    "sqmat = np.array([ [1,2,3], [4,5,6], [7,8,9] ])"
   ]
  },
  {
   "cell_type": "code",
   "execution_count": null,
   "metadata": {
    "collapsed": false
   },
   "outputs": [],
   "source": [
    "np.dot( sqmat, sqmat ) # sqmat (dot) sqmat, or, sqmat^2, this is matrix mult"
   ]
  },
  {
   "cell_type": "code",
   "execution_count": null,
   "metadata": {
    "collapsed": false
   },
   "outputs": [],
   "source": [
    "sqmat * sqmat # Careful, this is very different from matrix multiplication!"
   ]
  },
  {
   "cell_type": "markdown",
   "metadata": {},
   "source": [
    "We can transpose an array"
   ]
  },
  {
   "cell_type": "code",
   "execution_count": null,
   "metadata": {
    "collapsed": false,
    "scrolled": true
   },
   "outputs": [],
   "source": [
    "print sqmat\n",
    "print sqmat.T\n",
    "print np.transpose(sqmat)"
   ]
  },
  {
   "cell_type": "code",
   "execution_count": null,
   "metadata": {
    "collapsed": false
   },
   "outputs": [],
   "source": [
    "np.linalg.inv(sqmat) # Very crazy numbers! Most likely not full rank matrix\n",
    "# For fun, you can check the rank by: np.linalg.matrix_rank(sqmat)\n",
    "# This matrix is not full rank"
   ]
  },
  {
   "cell_type": "code",
   "execution_count": null,
   "metadata": {
    "collapsed": false
   },
   "outputs": [],
   "source": [
    "sqmat = np.array( [ [1,5,4], [6,0,-2], [ 3.3, -.5, -.5] ])\n",
    "np.linalg.inv(sqmat)\n",
    "# For fun you can check the rank by: np.linalg.matrix_rank(sqmat) \n",
    "# This matrix should be full rank"
   ]
  },
  {
   "cell_type": "markdown",
   "metadata": {},
   "source": [
    "### Matrix Descriptions\n",
    "Helper functions exist to help reshape arrays as well as determine the number of dimensions and size of the dimensions"
   ]
  },
  {
   "cell_type": "code",
   "execution_count": null,
   "metadata": {
    "collapsed": true
   },
   "outputs": [],
   "source": [
    "a = np.array( [1,2,3,4,5,6,7,8,9,10,11,12]) #Create a 12 x 1 array"
   ]
  },
  {
   "cell_type": "code",
   "execution_count": null,
   "metadata": {
    "collapsed": false
   },
   "outputs": [],
   "source": [
    "print np.shape(a) # Get the dimensions of the array\n",
    "print np.ndim(a)  # Get how many dimensions there are"
   ]
  },
  {
   "cell_type": "code",
   "execution_count": null,
   "metadata": {
    "collapsed": false
   },
   "outputs": [],
   "source": [
    "matA = a.reshape(3,4) #Reshape into a 3 x 4 matrix. Use elements row-wise"
   ]
  },
  {
   "cell_type": "code",
   "execution_count": null,
   "metadata": {
    "collapsed": false
   },
   "outputs": [],
   "source": [
    "print matA.shape\n",
    "print matA.ndim"
   ]
  },
  {
   "cell_type": "code",
   "execution_count": null,
   "metadata": {
    "collapsed": false
   },
   "outputs": [],
   "source": [
    "matA = np.reshape(a,(3,4)) # Same as above, the shape must be passed as a tuple"
   ]
  },
  {
   "cell_type": "code",
   "execution_count": null,
   "metadata": {
    "collapsed": false
   },
   "outputs": [],
   "source": [
    "#This takes a matrix, and does the reverse operation of flattening into an array\n",
    "a = matA.flatten() "
   ]
  },
  {
   "cell_type": "markdown",
   "metadata": {},
   "source": [
    "### Helper Functions to create Arrays\n",
    "\n",
    "There are a number of helper functions to create arrays from scratch"
   ]
  },
  {
   "cell_type": "code",
   "execution_count": null,
   "metadata": {
    "collapsed": false
   },
   "outputs": [],
   "source": [
    "a = np.zeros(4)\n",
    "a"
   ]
  },
  {
   "cell_type": "code",
   "execution_count": null,
   "metadata": {
    "collapsed": false
   },
   "outputs": [],
   "source": [
    "#Instead of a scalar, can pass in dimensions to create a multi-dimensional array\n",
    "a = np.zeros( (4,4) ) \n",
    "a"
   ]
  },
  {
   "cell_type": "code",
   "execution_count": null,
   "metadata": {
    "collapsed": false
   },
   "outputs": [],
   "source": [
    "#As mentioned above, a 1d array of size 4 is not the same as a 2d array of size 4x1\n",
    "a = np.zeros(  4    )  #Create 1d array of size 4\n",
    "b = np.zeros( (4,1) )  #Create 2d array of size 4 x 1\n",
    "c = np.zeros( (1,4) )  #Create 2d array of size 1 x 4\n",
    "print a.shape, b.shape, c.shape"
   ]
  },
  {
   "cell_type": "code",
   "execution_count": null,
   "metadata": {
    "collapsed": false
   },
   "outputs": [],
   "source": [
    "a = np.ones( (4,4) )\n",
    "a"
   ]
  },
  {
   "cell_type": "markdown",
   "metadata": {},
   "source": [
    "`arange` returns a range similar to python's `range`, but enclosed in an np array. We can directly call reshape on the returned ndarray, just as we can on any other ndarray\n",
    "(ndarray is the basic type of numpy arrays.)"
   ]
  },
  {
   "cell_type": "code",
   "execution_count": null,
   "metadata": {
    "collapsed": false
   },
   "outputs": [],
   "source": [
    "a = np.arange(5**2).reshape(5,5)\n",
    "a"
   ]
  },
  {
   "cell_type": "code",
   "execution_count": null,
   "metadata": {
    "collapsed": true
   },
   "outputs": [],
   "source": [
    "#We can also flatten this matrix\n",
    "a = np.arange(5**2).reshape(5,5)\n",
    "a = a.flatten()"
   ]
  },
  {
   "cell_type": "code",
   "execution_count": null,
   "metadata": {
    "collapsed": false
   },
   "outputs": [],
   "source": [
    "a = np.linspace(0,1,11) #Note that the boundaries ARE included in linspace\n",
    "a "
   ]
  },
  {
   "cell_type": "code",
   "execution_count": null,
   "metadata": {
    "collapsed": false
   },
   "outputs": [],
   "source": [
    "np.random.random() #Gives a single number in the interval [0,1.0] inclusive"
   ]
  },
  {
   "cell_type": "code",
   "execution_count": null,
   "metadata": {
    "collapsed": false
   },
   "outputs": [],
   "source": [
    "np.random.random(10) # Creates a vector of 10 elements"
   ]
  },
  {
   "cell_type": "code",
   "execution_count": null,
   "metadata": {
    "collapsed": false
   },
   "outputs": [],
   "source": [
    "np.random.random( (3,4) ) #Creates a 3 x 4 matrix. Enclose dimensions in a tuple"
   ]
  },
  {
   "cell_type": "code",
   "execution_count": null,
   "metadata": {
    "collapsed": false
   },
   "outputs": [],
   "source": [
    "#Creates a 2x2 matrix generated from normal distribution. Use varargs here, not tuple\n",
    "np.random.randn( 2,2 ) "
   ]
  },
  {
   "cell_type": "markdown",
   "metadata": {},
   "source": [
    "### Descriptive Stats\n",
    "Through helper functions, you can obtain stats of arrays along multiple dimensions, as well as modify the data to your benefit"
   ]
  },
  {
   "cell_type": "code",
   "execution_count": null,
   "metadata": {
    "collapsed": true
   },
   "outputs": [],
   "source": [
    "a = np.arange(5,10)"
   ]
  },
  {
   "cell_type": "code",
   "execution_count": null,
   "metadata": {
    "collapsed": false
   },
   "outputs": [],
   "source": [
    "np.square(a)"
   ]
  },
  {
   "cell_type": "code",
   "execution_count": null,
   "metadata": {
    "collapsed": false
   },
   "outputs": [],
   "source": [
    "np.sqrt(a)"
   ]
  },
  {
   "cell_type": "code",
   "execution_count": null,
   "metadata": {
    "collapsed": false
   },
   "outputs": [],
   "source": [
    "print np.mean(a), np.median(a),  np.min(a), np.max(a), np.std(a)"
   ]
  },
  {
   "cell_type": "code",
   "execution_count": null,
   "metadata": {
    "collapsed": false
   },
   "outputs": [],
   "source": [
    "print a\n",
    "print np.cumsum(a)"
   ]
  },
  {
   "cell_type": "code",
   "execution_count": null,
   "metadata": {
    "collapsed": false
   },
   "outputs": [],
   "source": [
    "a = np.arange(25).reshape(5,5)\n",
    "print a.mean(axis=0) #average per column\n",
    "print a.mean(axis=1) #average per row"
   ]
  },
  {
   "cell_type": "code",
   "execution_count": null,
   "metadata": {
    "collapsed": false
   },
   "outputs": [],
   "source": [
    "a = np.random.random(10) \n",
    "print np.sort(a) #Not an inplace sort. Returns a new np array\n",
    "print a"
   ]
  },
  {
   "cell_type": "code",
   "execution_count": null,
   "metadata": {
    "collapsed": false
   },
   "outputs": [],
   "source": [
    "a.sort() # Be careful, this will sort a in place\n",
    "print a"
   ]
  },
  {
   "cell_type": "code",
   "execution_count": null,
   "metadata": {
    "collapsed": false
   },
   "outputs": [],
   "source": [
    "np.random.shuffle(a) # This will shuffle your np array IN PLACE\n",
    "print a"
   ]
  },
  {
   "cell_type": "markdown",
   "metadata": {},
   "source": [
    "### Plotting with matplotlib\n",
    "The `pyplot` submodule is located in the `matplotlib` package.\n",
    "Remember to include `%matplotlib inline` if you want the graphs to plot from inside ipython notebook (else they get plotted to lala land)"
   ]
  },
  {
   "cell_type": "code",
   "execution_count": null,
   "metadata": {
    "collapsed": true
   },
   "outputs": [],
   "source": [
    "from matplotlib import pyplot as plt\n",
    "%matplotlib inline"
   ]
  },
  {
   "cell_type": "code",
   "execution_count": null,
   "metadata": {
    "collapsed": false
   },
   "outputs": [],
   "source": [
    "a = np.random.random(10000)\n",
    "f = plt.hist(a,bins=20)"
   ]
  },
  {
   "cell_type": "code",
   "execution_count": null,
   "metadata": {
    "collapsed": false
   },
   "outputs": [],
   "source": [
    "a = np.random.randn(10000) #Normal distribution\n",
    "f = plt.hist(a, bins=20)"
   ]
  },
  {
   "cell_type": "code",
   "execution_count": null,
   "metadata": {
    "collapsed": false
   },
   "outputs": [],
   "source": [
    "print a.mean(), a.var() #Let's check again numerically. For a standard normal, mean ~ 0, var ~ 1"
   ]
  },
  {
   "cell_type": "markdown",
   "metadata": {},
   "source": [
    "#### Stacking arrays\n",
    "Often, you may need to append columns or add rows to an existing matrix.\n",
    "\n",
    "`np.hstack` and `np.vstack` are functions to horizontally append columns and vertically add rows respectively"
   ]
  },
  {
   "cell_type": "code",
   "execution_count": null,
   "metadata": {
    "collapsed": false
   },
   "outputs": [],
   "source": [
    "a = np.array([1,2,3])\n",
    "b = np.array([4,5,6])\n",
    "print a\n",
    "print b"
   ]
  },
  {
   "cell_type": "code",
   "execution_count": null,
   "metadata": {
    "collapsed": false,
    "scrolled": true
   },
   "outputs": [],
   "source": [
    "np.hstack( (a,b) ) #Define all the elements to stack in a tuple."
   ]
  },
  {
   "cell_type": "code",
   "execution_count": null,
   "metadata": {
    "collapsed": false
   },
   "outputs": [],
   "source": [
    "np.vstack( (a,b) )"
   ]
  },
  {
   "cell_type": "code",
   "execution_count": null,
   "metadata": {
    "collapsed": true
   },
   "outputs": [],
   "source": [
    "a = np.array([ [1],[2],[3] ])\n",
    "b = np.array([ [4],[5],[6] ])"
   ]
  },
  {
   "cell_type": "code",
   "execution_count": null,
   "metadata": {
    "collapsed": false
   },
   "outputs": [],
   "source": [
    "np.hstack( (a,b) )"
   ]
  },
  {
   "cell_type": "code",
   "execution_count": null,
   "metadata": {
    "collapsed": false
   },
   "outputs": [],
   "source": [
    "np.vstack( (a,b) )"
   ]
  },
  {
   "cell_type": "markdown",
   "metadata": {},
   "source": [
    "Find more distributions and random functions here: http://docs.scipy.org/doc/numpy/reference/routines.random.html"
   ]
  },
  {
   "cell_type": "markdown",
   "metadata": {},
   "source": [
    "# Exercise"
   ]
  },
  {
   "cell_type": "markdown",
   "metadata": {},
   "source": [
    "**1a) Create a 4x5 array of integers between 2 and 21. Save it as `matA`**"
   ]
  },
  {
   "cell_type": "code",
   "execution_count": null,
   "metadata": {
    "collapsed": false
   },
   "outputs": [],
   "source": [
    "import numpy as np\n",
    "matA = np.arange(2,22).reshape(4,5)\n",
    "matA"
   ]
  },
  {
   "cell_type": "markdown",
   "metadata": {},
   "source": [
    "**1b) Create another 5x10 array of random numbers between [0,1]. Save it as `matB`**"
   ]
  },
  {
   "cell_type": "code",
   "execution_count": null,
   "metadata": {
    "collapsed": false
   },
   "outputs": [],
   "source": [
    "#One direct way. Enclose your dimensions in a tuple of (5x10)\n",
    "matB  = np.random.random( (5,10) )\n",
    "\n",
    "#Another way. Generate 50 random # in a 1d array. Reshape into a 2d array of size 5 x 10\n",
    "matB = np.random.random(50).reshape(5,10)"
   ]
  },
  {
   "cell_type": "markdown",
   "metadata": {},
   "source": [
    "*1c) Obtain the dot product (matrix multiplication) of the two matrices. Save this as `matC`.**"
   ]
  },
  {
   "cell_type": "code",
   "execution_count": null,
   "metadata": {
    "collapsed": false
   },
   "outputs": [],
   "source": [
    "matC = np.dot(matA,matB)\n",
    "matC.shape"
   ]
  },
  {
   "cell_type": "markdown",
   "metadata": {},
   "source": [
    "**1d) For some reason, analysts believe that `matB` and `matC` can be better used when their rows are combined. Vertically stack the two matrices, and save as `matD`**"
   ]
  },
  {
   "cell_type": "code",
   "execution_count": null,
   "metadata": {
    "collapsed": false
   },
   "outputs": [],
   "source": [
    "matD = np.vstack( (matB, matC ) )\n",
    "print matB.shape, matC.shape, matD.shape"
   ]
  },
  {
   "cell_type": "markdown",
   "metadata": {},
   "source": [
    "**2a) Create a 6x6-matrix with ones on the diagonals - i.e. on (1,1), (2,2), (3,3) and zeroes everywhere else. Save as `matA`. Hint: Use eye**"
   ]
  },
  {
   "cell_type": "code",
   "execution_count": null,
   "metadata": {
    "collapsed": false
   },
   "outputs": [],
   "source": [
    "matA = np.eye(6)\n",
    "matA"
   ]
  },
  {
   "cell_type": "markdown",
   "metadata": {},
   "source": [
    "**2b) Create another 6x6-matrix where all of the values are uniformly random values between 1 and 10. Save as `matB`**"
   ]
  },
  {
   "cell_type": "code",
   "execution_count": null,
   "metadata": {
    "collapsed": false
   },
   "outputs": [],
   "source": [
    "#One way. Specify the low as 1, high(noninclusive) as 10, and the shape (6,6) in a tuple\n",
    "matB = np.random.randint(1,10, (6,6) ) \n",
    "\n",
    "#Another way. i.e. Generate 36 random # between 1 and 10, and reshape the resulting ndarray\n",
    "matB = np.random.randint(1,10,36).reshape(6,6)"
   ]
  },
  {
   "cell_type": "markdown",
   "metadata": {},
   "source": [
    "**2c) Add `matA + matB` and determine the columwise means, rowwise means, and overall mean of matC**"
   ]
  },
  {
   "cell_type": "code",
   "execution_count": null,
   "metadata": {
    "collapsed": false
   },
   "outputs": [],
   "source": [
    "matC = matA + matB\n",
    "colMeans = matC.mean(axis=0)\n",
    "rowMeans = matC.mean(axis=1)\n",
    "totMean  = matC.mean()"
   ]
  },
  {
   "cell_type": "markdown",
   "metadata": {},
   "source": [
    "**3a) Create a 500x5 array through a normal distribution with a mean of 20 and variance of 100. Save it to a variable called  biggie**"
   ]
  },
  {
   "cell_type": "code",
   "execution_count": null,
   "metadata": {
    "collapsed": false
   },
   "outputs": [],
   "source": [
    "#One way\n",
    "biggie = np.random.normal(20,100, (500,5) )\n",
    "\n",
    "#Another way\n",
    "biggie = np.random.normal(20,100,500*5).reshape(500,5)"
   ]
  },
  {
   "cell_type": "markdown",
   "metadata": {},
   "source": [
    "**3b) Plot a histogram of this distribution using 20 break points.**"
   ]
  },
  {
   "cell_type": "code",
   "execution_count": null,
   "metadata": {
    "collapsed": false
   },
   "outputs": [],
   "source": [
    "from matplotlib import pyplot as plt\n",
    "%matplotlib inline\n",
    "f = plt.hist(biggie,bins=20)"
   ]
  },
  {
   "cell_type": "markdown",
   "metadata": {},
   "source": [
    "**3c) Determine the standard deviation of `biggie`. Now, for any value in `biggie` greater than `mean + 2 * std`, set it equal to `mean + 2 * std`. Any value less than `mean - 2 * std`, set it equal to `mean - 2 * std`.**"
   ]
  },
  {
   "cell_type": "code",
   "execution_count": null,
   "metadata": {
    "collapsed": true
   },
   "outputs": [],
   "source": [
    "std = biggie.std()\n",
    "std2Above = biggie.mean() + 2.0*std\n",
    "std2Below = biggie.mean() - 2.0*std\n",
    "\n",
    "biggie[ biggie > std2Above ] = std2Above\n",
    "biggie[ biggie < std2Below ] = std2Below\n",
    "\n",
    "#Be careful that you obtain std2Above and std2Below BEFORE modifying biggie.\n",
    "#If you don't, then the mean and std will change as you calculate the limits."
   ]
  },
  {
   "cell_type": "markdown",
   "metadata": {},
   "source": [
    "**3d) Replot a histogram of this distribution using 20 break points. What could a technique like 2c be used for in the real world?**"
   ]
  },
  {
   "cell_type": "code",
   "execution_count": null,
   "metadata": {
    "collapsed": false
   },
   "outputs": [],
   "source": [
    "f = plt.hist(biggie, bins=20) #This technique is called winsorising"
   ]
  }
 ],
 "metadata": {
  "kernelspec": {
   "display_name": "Python 2",
   "language": "python",
   "name": "python2"
  },
  "language_info": {
   "codemirror_mode": {
    "name": "ipython",
    "version": 2
   },
   "file_extension": ".py",
   "mimetype": "text/x-python",
   "name": "python",
   "nbconvert_exporter": "python",
   "pygments_lexer": "ipython2",
   "version": "2.7.10"
  }
 },
 "nbformat": 4,
 "nbformat_minor": 0
}
