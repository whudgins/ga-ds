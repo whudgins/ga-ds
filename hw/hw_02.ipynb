{
 "cells": [
  {
   "cell_type": "markdown",
   "metadata": {},
   "source": [
    "# HW 2 - Python, Pandas, and Bears oh my!\n",
    "\n",
    "In this homework, you will have lots of opportunities to work on your python skills. \n",
    "\n",
    "Keep your answers to a single cell. You can have multiple lines, but they should all be confined to that cell.\n",
    "\n",
    "After completing the homework, submit this ipynb file to **gadschicago@gmail.com** with the subject **[HW2 - YOURNAMEHERE]**."
   ]
  },
  {
   "cell_type": "markdown",
   "metadata": {},
   "source": [
    "-----\n",
    "## Python Basics\n",
    "\n",
    "Given: `list1 = ['a','b','c','d','e','f','g']` and `list2 = [1,6,10,2,4,1,9]`, create a dictionary with key value pairs of `list1` and `list2` respectively. Hint: Use `zip`"
   ]
  },
  {
   "cell_type": "code",
   "execution_count": null,
   "metadata": {
    "collapsed": true
   },
   "outputs": [],
   "source": []
  },
  {
   "cell_type": "markdown",
   "metadata": {},
   "source": [
    "Create a function that takes in a list of integers, iterates through them, and returns the total number of elements that are divisible by 3 or 5, but not both 3 and 5. For instance, 6 would be counted, 10 would be counted, but 15 would not be counted. Test your function with the following list: `list1 = [1,5,3,7,11,15,6,7]`, which should return 3"
   ]
  },
  {
   "cell_type": "code",
   "execution_count": null,
   "metadata": {
    "collapsed": true
   },
   "outputs": [],
   "source": []
  },
  {
   "cell_type": "markdown",
   "metadata": {},
   "source": [
    "Create a function that takes in a list of any number and any type of elements and iterates through them. This function should return a new list containing only the distinct items in the original list. For instance, if `list1 = [1,2,5,5,'foo','foo','baz']`, then the function should return a new list with `list2 = [1,2,'baz']`"
   ]
  },
  {
   "cell_type": "code",
   "execution_count": null,
   "metadata": {
    "collapsed": true
   },
   "outputs": [],
   "source": []
  },
  {
   "cell_type": "markdown",
   "metadata": {},
   "source": [
    "-----\n",
    "\n",
    "## Numpy Basics\n",
    "\n",
    "First import numpy"
   ]
  },
  {
   "cell_type": "code",
   "execution_count": null,
   "metadata": {
    "collapsed": true
   },
   "outputs": [],
   "source": []
  },
  {
   "cell_type": "markdown",
   "metadata": {},
   "source": [
    "\"Variance\" is a statistical concept to measure the spread of a distribution, or set of numbers. \n",
    "\n",
    "`numpy` has a built in function for this: `np.var`. \n",
    "\n",
    "Implement a function called `skew`, that takes in an np array, and calculates its skew. the \"skew\" is a measure of asymmetry of a distribution. i.e. How much is it tilting one way or another from the mean\n",
    "\n",
    "[Wikipedia has the mathematical definition of skew](https://en.wikipedia.org/wiki/Skewness)\n",
    "\n",
    "x = np.array([1,2,3,4,5,6,6,6,6,6,7])\n",
    "\n",
    "The skew of x = -.780707\n",
    "\n",
    "Hint: Be careful, 3/2 will be concatenated to 1, NOT 1.5\n",
    "\n"
   ]
  },
  {
   "cell_type": "code",
   "execution_count": null,
   "metadata": {
    "collapsed": true
   },
   "outputs": [],
   "source": []
  },
  {
   "cell_type": "markdown",
   "metadata": {},
   "source": [
    "Create a 5x5 matrix using sequential elements from 5 to 29 inclusive. Save this matrix as `matA`."
   ]
  },
  {
   "cell_type": "code",
   "execution_count": null,
   "metadata": {
    "collapsed": false
   },
   "outputs": [],
   "source": []
  },
  {
   "cell_type": "markdown",
   "metadata": {},
   "source": [
    "Subtract the mean of each row in matA and save this as `matB`.\n",
    "\n",
    "Hint: Read the help(np.mean). In particular, you may want to specify `keepdims`"
   ]
  },
  {
   "cell_type": "code",
   "execution_count": null,
   "metadata": {
    "collapsed": false
   },
   "outputs": [],
   "source": []
  },
  {
   "cell_type": "markdown",
   "metadata": {},
   "source": [
    "------\n",
    "## Pandas Basics\n",
    "\n",
    "In addition to all of the things we've learned in class, Pandas also has excellent data reading capabilities. You can read from .csv files, as well as pull from the internet.\n",
    "\n",
    "After importing pandas, download the following dataset involving age, gender, number of impressions (# of times a website has been accessed), # of clicks, and whether the user was signed into nyt.\n",
    "\n",
    "nyt = pd.read_csv('http://stat.columbia.edu/~rachel/datasets/nyt1.csv')"
   ]
  },
  {
   "cell_type": "code",
   "execution_count": null,
   "metadata": {
    "collapsed": false
   },
   "outputs": [],
   "source": []
  },
  {
   "cell_type": "markdown",
   "metadata": {},
   "source": [
    "From this file, count the number of 0s and 1s under the 'Gender' column. Hint: use groupby"
   ]
  },
  {
   "cell_type": "code",
   "execution_count": null,
   "metadata": {
    "collapsed": false
   },
   "outputs": [],
   "source": []
  },
  {
   "cell_type": "markdown",
   "metadata": {},
   "source": [
    "How many total impressions are there from 90 year olds with gender==0? "
   ]
  },
  {
   "cell_type": "code",
   "execution_count": null,
   "metadata": {
    "collapsed": false
   },
   "outputs": [],
   "source": []
  },
  {
   "cell_type": "markdown",
   "metadata": {},
   "source": [
    "Plot a histogram of ages for users who have signed in (i.e. Signed_In==1).\n",
    "\n",
    "To plot histograms,\n",
    "from matplotlib import pyplot as plt\n",
    "%matplotlib inline"
   ]
  },
  {
   "cell_type": "code",
   "execution_count": null,
   "metadata": {
    "collapsed": true
   },
   "outputs": [],
   "source": []
  }
 ],
 "metadata": {
  "kernelspec": {
   "display_name": "Python 2",
   "language": "python",
   "name": "python2"
  },
  "language_info": {
   "codemirror_mode": {
    "name": "ipython",
    "version": 2
   },
   "file_extension": ".py",
   "mimetype": "text/x-python",
   "name": "python",
   "nbconvert_exporter": "python",
   "pygments_lexer": "ipython2",
   "version": "2.7.10"
  }
 },
 "nbformat": 4,
 "nbformat_minor": 0
}
